{
 "cells": [
  {
   "cell_type": "markdown",
   "id": "546aa3f2",
   "metadata": {},
   "source": [
    "# format is possible when string is attach with it if not then it occur error in your programm."
   ]
  },
  {
   "cell_type": "code",
   "execution_count": 13,
   "id": "2649a09c",
   "metadata": {},
   "outputs": [
    {
     "name": "stdout",
     "output_type": "stream",
     "text": [
      "welcome hallo to 40 wscubetech\n",
      "ram mannu to abhishek wscubetech\n"
     ]
    }
   ],
   "source": [
    "w=\"welcome {} to {} wscubetech\".format(\"hallo\",40)\n",
    "print(w)\n",
    "a=\"ram {} to {} wscubetech\".format(\"mannu\",\"abhishek\")\n",
    "\n",
    "print(a)"
   ]
  },
  {
   "cell_type": "code",
   "execution_count": 17,
   "id": "691e910b",
   "metadata": {},
   "outputs": [
    {
     "name": "stdout",
     "output_type": "stream",
     "text": [
      "shivam is going to home\n"
     ]
    }
   ],
   "source": [
    "w=\"shivam is {} to {}\".format(\"going\",\"home\")\n",
    "print(w)"
   ]
  },
  {
   "cell_type": "markdown",
   "id": "b0654bc6",
   "metadata": {},
   "source": [
    "## on the basis of indexing"
   ]
  },
  {
   "cell_type": "code",
   "execution_count": 21,
   "id": "8eb93bee",
   "metadata": {},
   "outputs": [
    {
     "name": "stdout",
     "output_type": "stream",
     "text": [
      "ram is school not going to market\n",
      "ram is market not going to school\n"
     ]
    }
   ],
   "source": [
    "a=\"ram is {0} not going to {1}\".format(\"school\",\"market\")\n",
    "print(a)\n",
    "a=\"ram is {1} not going to {0}\".format(\"school\",\"market\")\n",
    "print(a)                                #index of school in format is 0 so it print when {0}\n",
    "                                        #index of market in format is 1 so it print when {1}\n"
   ]
  },
  {
   "cell_type": "markdown",
   "id": "44152565",
   "metadata": {},
   "source": [
    "## on the basis of element"
   ]
  },
  {
   "cell_type": "code",
   "execution_count": 26,
   "id": "9c2e0bec",
   "metadata": {},
   "outputs": [
    {
     "name": "stdout",
     "output_type": "stream",
     "text": [
      "shivam is 20 to 40\n",
      "shivam is 50 to mohan\n"
     ]
    }
   ],
   "source": [
    "w=\"shivam is {a} to {b}\".format(a=20,b=40)\n",
    "print(w)\n",
    "w=\"shivam is {b} to {a}\".format(a=\"mohan\",b=50)\n",
    "print(w)"
   ]
  },
  {
   "cell_type": "markdown",
   "id": "c1b6b705",
   "metadata": {},
   "source": [
    "## how to get space."
   ]
  },
  {
   "cell_type": "code",
   "execution_count": 31,
   "id": "78d1a3e1",
   "metadata": {},
   "outputs": [
    {
     "name": "stdout",
     "output_type": "stream",
     "text": [
      "welcome         70 to 30 wscube\n",
      "31\n",
      "16\n",
      "16\n"
     ]
    }
   ],
   "source": [
    "w=\"welcome {b:10} to {a} wscube\".format(a=30,b=70)\n",
    "print(w) #{b:10} means --------70 or 8space70\n",
    "print(len(w))\n",
    "print(w.find(\"7\"))\n",
    "print(w.index(\"7\"))"
   ]
  },
  {
   "cell_type": "markdown",
   "id": "e8795377",
   "metadata": {},
   "source": [
    "## value place in between space{b:^10}"
   ]
  },
  {
   "cell_type": "code",
   "execution_count": 32,
   "id": "e30e518a",
   "metadata": {},
   "outputs": [
    {
     "name": "stdout",
     "output_type": "stream",
     "text": [
      "welcome     70     to 30 wscube\n"
     ]
    }
   ],
   "source": [
    "w=\"welcome {b:^10} to {a} wscube\".format(a=30,b=70)\n",
    "print(w)\n"
   ]
  },
  {
   "cell_type": "markdown",
   "id": "72725d5e",
   "metadata": {},
   "source": [
    "## value place in left side {b:<10}"
   ]
  },
  {
   "cell_type": "code",
   "execution_count": 33,
   "id": "11f658e0",
   "metadata": {},
   "outputs": [
    {
     "name": "stdout",
     "output_type": "stream",
     "text": [
      "welcome 70         to 30 wscube\n"
     ]
    }
   ],
   "source": [
    "w=\"welcome {b:<10} to {a} wscube\".format(a=30,b=70)\n",
    "print(w)"
   ]
  },
  {
   "cell_type": "markdown",
   "id": "e3453ae1",
   "metadata": {},
   "source": [
    "## value place in right side {b:>10}"
   ]
  },
  {
   "cell_type": "code",
   "execution_count": 34,
   "id": "f805d398",
   "metadata": {},
   "outputs": [
    {
     "name": "stdout",
     "output_type": "stream",
     "text": [
      "welcome         70 to 30 wscube\n"
     ]
    }
   ],
   "source": [
    "w=\"welcome {b:>10} to {a} wscube\".format(a=30,b=70)\n",
    "print(w)"
   ]
  },
  {
   "cell_type": "code",
   "execution_count": null,
   "id": "fb29a2d2",
   "metadata": {},
   "outputs": [],
   "source": []
  }
 ],
 "metadata": {
  "kernelspec": {
   "display_name": "Python 3 (ipykernel)",
   "language": "python",
   "name": "python3"
  },
  "language_info": {
   "codemirror_mode": {
    "name": "ipython",
    "version": 3
   },
   "file_extension": ".py",
   "mimetype": "text/x-python",
   "name": "python",
   "nbconvert_exporter": "python",
   "pygments_lexer": "ipython3",
   "version": "3.10.9"
  }
 },
 "nbformat": 4,
 "nbformat_minor": 5
}
